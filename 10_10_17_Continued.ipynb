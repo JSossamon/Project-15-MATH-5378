{
 "cells": [
  {
   "cell_type": "markdown",
   "metadata": {},
   "source": [
    "**Problem 1** Bernoulli Trials"
   ]
  },
  {
   "cell_type": "code",
   "execution_count": 6,
   "metadata": {},
   "outputs": [
    {
     "data": {
      "image/png": "[encoded data removed]",
      "text/plain": [
       "<matplotlib.figure.Figure at 0x117c85240>"
      ]
     },
     "metadata": {},
     "output_type": "display_data"
    }
   ],
   "source": [
    "import numpy as U\n",
    "\n",
    "def bGenFn(p,p1,M,N,k): \n",
    "\n",
    "    kTrials = U.random.binomial(1,p,(M,k))\n",
    "    NkTrials = U.random.binomial(1,p1,(M,N-k))\n",
    "    bMx = U.concatenate((kTrials,NkTrials),axis=1)\n",
    "    \n",
    "    return bMx\n",
    "\n",
    "def bLogFn(bMx_,p,p1,N,k):         #Taking log of probabilities (k=good;N-k=bad)\n",
    "    bMx1 = bMx_[:, 0:k]      #Call first k entries from bMx_\n",
    "    bSum1 = U.sum(bMx1,axis=1)  #Sum the first k entries\n",
    "    bMx2 = bMx_[:, k:N]      #Call last N-k entries from bMx_\n",
    "    bSum2 = U.sum(bMx2,axis=1)  #Sum the last N-k entries\n",
    "    bLog1 = bSum1*(U.log(p)-U.log(1-p))+k*U.log(1-p)     \n",
    "    bLog2 = bSum2*(U.log(p1)-U.log(1-p1))+(N-k)*U.log(1-p1)   \n",
    "    bLog = bLog1 + bLog2\n",
    "    \n",
    "    return bLog\n",
    "\n",
    "def bLogAltFn(bMx_,p,p1,N,d):\n",
    "    bLogAltSum = 0\n",
    "    for k in range(0,N-d):\n",
    "        \n",
    "        bLogAlt = U.exp(bLogFn(bMx_,p,p1,N,k)) \n",
    "        \n",
    "        bLogAltSum = bLogAltSum + bLogAlt      #cumulative sum\n",
    "    \n",
    "    LogAverage = U.log(bLogAltSum / (N-d))     #log of averages\n",
    "    \n",
    "    return LogAverage\n",
    "\n",
    "def cutoffFn(p,p1,M,N,d,q):\n",
    "    Null = bGenFn(p,p,M,N,N)  #creating Null matrix\n",
    "    bLog_1 = bLogFn(Null,p,p1,N,N)             #Evaluate Null hyp\n",
    "    bLogAlt_1 = bLogAltFn(Null,p,p1,N,d)       #Evaluate Alt hyp\n",
    "    bDiff = U.sort(bLogAlt_1 - bLog_1)            #Log of LR\n",
    "    Cutoff = U.percentile(bDiff,q)\n",
    "    \n",
    "    return Cutoff\n",
    "\n",
    "#assign values for trial generation:\n",
    "p = 0.05\n",
    "p1 = 0.1\n",
    "M = 5000\n",
    "N = 100\n",
    "k = 100\n",
    "d = 6\n",
    "q = 95\n",
    "\n",
    "#Trial generation code (NOT part of pull file):\n",
    "%matplotlib inline\n",
    "import matplotlib.pyplot as P\n",
    "\n",
    "for k in range(0,N-d):\n",
    "    CutVal = cutoffFn(p,p1,M,N,d,q)\n",
    "    AltnMx = bGenFn(p,p1,M,N,k)\n",
    "    #evaluate Logs and find the difference btwn Logs and Averages of Logs\n",
    "    bLog_2 = bLogFn(AltnMx,p,p,N,N)  #testing Null Hypothesis under assumption it does not go bad (how many docs \"going bad\")?\n",
    "    bLogAlt_2 = bLogAltFn(AltnMx,p,p1,N,d)  #testing where it goes bad (closer to alt or null hypothesis)?\n",
    "    bDiff2 = U.sort(bLogAlt_2 - bLog_2)   #Log of LR (for each scenario --> there's (N-d) scenarios to test)\n",
    "    #finding values greater than qth percentile\n",
    "    ValBigQ = bDiff2>=CutVal  #need proportionate values not actual values - do the sum of these\n",
    "    SumValBigQ = U.sum(ValBigQ)/M  #Sum of ratios greater than cutoff divided by number of trial sequences (rows) gives proportion detected\n",
    "    #plot detection rate\n",
    "    P.plot(k,SumValBigQ, 'ro', markersize=0.5)\n",
    "    P.ylabel('Values Greater than q')\n",
    "    P.xlabel('k')\n",
    "    P.title('Detection Rate')\n",
    "P.show()"
   ]
  },
  {
   "cell_type": "code",
   "execution_count": 61,
   "metadata": {},
   "outputs": [
    {
     "name": "stdout",
     "output_type": "stream",
     "text": [
      "cutoffVec =  [ 0.          0.          0.          0.          0.          0.          0.\n",
      "  1.11595825  1.08929001  1.36578783  1.03668371  1.63359544  1.04525272\n",
      "  1.61478996  1.12435108  1.5065188   1.56383856  1.60753361  1.33650965\n",
      "  1.38969884  1.48764752  1.62362162  1.75816449  1.65431981  1.68008257\n",
      "  1.68592706  1.84248698  1.45580884  1.73391992  1.74006081  1.57194001\n",
      "  1.53197967  1.64373599  1.40147497  1.42461094  1.64565782  1.97801316\n",
      "  1.58658914  2.02574587  1.50544999  1.63691052  1.85404337  1.80989263\n",
      "  1.67997171  1.90977368  1.96164466  1.73313047  1.86833684  1.64947515\n",
      "  1.85560274  1.68785446  1.85115888  1.7540425   1.73355099  1.48028015\n",
      "  2.01565756  1.63712025  1.83112153  1.59872344  1.76882461  1.79195818\n",
      "  1.58336698  1.84737379  2.04726945  1.96972442  1.91927878  2.25887528\n",
      "  2.02085964  1.744386    1.53316646  2.0884778   2.43582777  2.17372928\n",
      "  1.89907857  1.68192304  1.84048965  2.42280528  2.25008362  1.92764645\n",
      "  2.01449095  1.95909246  1.86854948  1.96611685  2.3372795   2.44864849\n",
      "  1.93303076  2.13919357  1.81251426  2.02827965  2.02846726  1.74976178\n",
      "  2.31609553  2.40216484  2.2961347   2.41405293  1.89879639  2.58308782\n",
      "  1.87712004  2.24644027  2.30307471]\n",
      "Indices where 1st oops happens in each row =  [  99.  100.   18.  100.  100.   82.   67.   43.   74.  100.  100.  100.\n",
      "  100.  100.   80.  100.   13.   57.  100.   10.  100.  100.   40.   80.\n",
      "  100.   53.   52.   58.   83.  100.  100.   81.  100.   95.   58.  100.\n",
      "   43.   43.   29.  100.   85.   62.   30.   78.  100.  100.   34.  100.\n",
      "   31.   37.  100.  100.   54.   82.  100.   48.  100.  100.  100.   44.\n",
      "  100.   46.   37.   27.   46.   53.  100.  100.   40.   95.  100.   68.\n",
      "  100.  100.   60.   78.   58.  100.  100.  100.  100.   49.   53.  100.\n",
      "   52.   54.  100.  100.  100.   30.   79.  100.  100.  100.   30.   74.\n",
      "   16.  100.   27.   11.  100.  100.   31.  100.   18.  100.   33.   31.\n",
      "   44.  100.   37.   58.   74.   64.  100.  100.   58.  100.  100.   67.\n",
      "   74.   82.  100.   27.  100.  100.  100.   68.   98.  100.   50.   39.\n",
      "   78.  100.   68.   43.   58.  100.   48.   67.  100.  100.   47.  100.\n",
      "   31.  100.   37.  100.  100.  100.   27.   37.  100.  100.   63.  100.\n",
      "   69.   95.   47.  100.   54.  100.   77.   52.  100.  100.   87.  100.\n",
      "   37.   73.   52.  100.  100.  100.   95.   75.   33.   74.  100.   58.\n",
      "  100.  100.   54.   14.   95.   81.   46.  100.   32.   87.   87.   39.\n",
      "  100.   47.   40.  100.   56.  100.  100.  100.  100.   90.   27.  100.\n",
      "   40.   34.  100.   63.  100.   39.  100.   34.  100.   80.   24.   68.\n",
      "  100.   46.   19.   78.  100.  100.  100.   61.   34.   50.  100.  100.\n",
      "   23.  100.   44.  100.  100.  100.  100.  100.   54.   95.   39.  100.\n",
      "   54.   82.   79.   49.   73.  100.  100.   35.  100.  100.   51.  100.\n",
      "   32.   69.   40.  100.   86.  100.   85.  100.   48.  100.   64.  100.\n",
      "   18.  100.  100.  100.   47.  100.   74.   31.   34.  100.  100.  100.\n",
      "   86.  100.  100.  100.  100.   90.   87.  100.   75.  100.   33.  100.\n",
      "   68.  100.  100.  100.  100.   95.   43.  100.   14.  100.   78.   95.\n",
      "  100.  100.  100.  100.  100.  100.   35.  100.  100.   46.   54.  100.\n",
      "   39.   46.  100.   54.  100.  100.   16.  100.   15.  100.  100.  100.\n",
      "   90.   32.   50.  100.  100.   68.  100.  100.  100.  100.  100.   74.\n",
      "   95.   61.   52.   58.  100.   81.   27.   50.   37.   47.  100.   48.\n",
      "   90.   79.  100.  100.  100.  100.   54.  100.   18.   14.  100.   69.\n",
      "  100.  100.  100.  100.  100.   69.  100.  100.  100.   73.  100.   58.\n",
      "   75.  100.   18.   68.  100.  100.  100.  100.  100.   56.   97.  100.\n",
      "  100.   86.   48.  100.   53.  100.  100.   17.  100.  100.  100.   51.\n",
      "  100.  100.  100.  100.   53.   52.   56.   59.   14.   75.   39.  100.\n",
      "  100.   60.   42.  100.   47.   87.   54.  100.   39.  100.   69.  100.\n",
      "  100.  100.  100.  100.   21.  100.   31.  100.   69.   39.   61.  100.\n",
      "   14.   51.   52.  100.   89.  100.  100.   52.  100.  100.   61.   54.\n",
      "  100.   43.   90.  100.   93.  100.   40.   35.   37.  100.  100.  100.\n",
      "   30.  100.  100.  100.   58.  100.   14.   53.   35.  100.  100.   69.\n",
      "   46.   64.   64.   14.   10.  100.  100.   48.  100.   74.  100.  100.\n",
      "   61.   39.   54.   13.   95.   20.  100.   32.   58.  100.   45.  100.\n",
      "  100.  100.  100.  100.   44.   68.  100.   40.]\n"
     ]
    },
    {
     "data": {
      "image/png": "[encoded data removed]",
      "text/plain": [
       "<matplotlib.figure.Figure at 0x1169123c8>"
      ]
     },
     "metadata": {},
     "output_type": "display_data"
    }
   ],
   "source": [
    "#PROBLEM 4E\n",
    "%matplotlib inline\n",
    "import matplotlib.pyplot as P\n",
    "import numpy as U\n",
    "%run bernoulliFns.py\n",
    "\n",
    "# Initialize variables: M,N,p,p1,d,q\n",
    "M = 500\n",
    "N = 100\n",
    "p = 0.05\n",
    "p1 = 0.1\n",
    "d = 6\n",
    "q = 99\n",
    "\n",
    "### generate cutoff value corresponding to specified false alarm rate:\n",
    "    #  ? generate matrix of trials according to null hypothesis (failure prob. = p for all trials)\n",
    "    #  ? generate log probability vector for this trial matrix under H0 (all trials p)\n",
    "    #   generate log probability vector for same matrix under alternative hypothesis (p changes to p1 somewhere)\n",
    "    #   difference between alt. and null log probability vectors--this is the statistic used to distinguish\n",
    "    #   find cutoff corresponding to false alarm rate\n",
    "cutoffVec = U.zeros(N)\n",
    "for n in range(d+1,N):\n",
    "    cutoffVal = cutoffFn(p,p1,M,n,d,q)\n",
    "    cutoffVec[n]=cutoffVal\n",
    "print(\"cutoffVec = \",cutoffVec)   \n",
    "\n",
    "\n",
    "#PROBLEM 4F:\n",
    "k = 25\n",
    "###compute missed detection rate for different scenarios where probability changes to p1\n",
    "bMx = bGenFn(p,p1,M,N,k)\n",
    "logProbMx = U.zeros((M,N))\n",
    "\n",
    "# Loop over trial # at which prob changes to p1 (index ii can be from first trial to N-d'th trial)\n",
    "for n in range(d+1,N):  \n",
    "    bLog = bLogFn(bMx,p,p,n,n)  #based off of null hypothesis\n",
    "    bLogAlt = bLogAltFn(bMx,p,p1,n,d)\n",
    "    LR = bLogAlt - bLog    # ? find difference: log probability vector assuming alt - log prob. vector assuming null\n",
    "    logProbMx[:,n] = LR > cutoffVec[n]  # see what proportion of these values are above the cutoff--this is the detection rate at this ii\n",
    "\n",
    "detectVec = N*U.ones(M)\n",
    "\n",
    "for j in range(0,M):\n",
    "    temp = U.nonzero(logProbMx[j,:])\n",
    "    if len(temp[0]) > 0:\n",
    "        detectVec[j] = temp[0][0]\n",
    "\n",
    "#plot the detection rate\n",
    "P.hist(detectVec)\n",
    "P.show()\n"
   ]
  },
  {
   "cell_type": "markdown",
   "metadata": {},
   "source": [
    "**Problem 2** Research Problem #2"
   ]
  },
  {
   "cell_type": "code",
   "execution_count": 27,
   "metadata": {},
   "outputs": [
    {
     "data": {
      "image/png": "[encoded data removed]",
      "text/plain": [
       "<matplotlib.figure.Figure at 0x116d7e048>"
      ]
     },
     "metadata": {},
     "output_type": "display_data"
    },
    {
     "name": "stdout",
     "output_type": "stream",
     "text": [
      "\n",
      "\n"
     ]
    },
    {
     "data": {
      "image/png": "[encoded data removed]",
      "text/plain": [
       "<matplotlib.figure.Figure at 0x116b77b00>"
      ]
     },
     "metadata": {},
     "output_type": "display_data"
    }
   ],
   "source": [
    "import numpy as M\n",
    "L = 1000     #set segment length L (using smaller values to test code)\n",
    "N = 10000    #number of points N (using smaller values to test code)\n",
    "\n",
    "S = M.random.uniform(0,L,M.int(N))\n",
    "S2 = S - 1\n",
    "S3 = S - 1 + L\n",
    "\n",
    "S2 = S2[S2>=0]        #searches value-by-value and selects only >=0\n",
    "S3 = S3[S3>=0]\n",
    "\n",
    "SuS2 = M.sort(M.concatenate((S,S2),axis=0))\n",
    "SuS3 = M.sort(M.concatenate((S,S3),axis=0))\n",
    "\n",
    "DiffList1 = M.diff(SuS2)   #googled\n",
    "DiffList2 = M.diff(SuS3)\n",
    "    \n",
    "%matplotlib inline\n",
    "import matplotlib.pyplot as P\n",
    "\n",
    "P.hist([DiffList1,DiffList2], color=['g','r'], alpha=0.8)\n",
    "P.title('Distribution of Intervals between Consecutive Points')\n",
    "P.show()\n",
    "\n",
    "print('')\n",
    "print('')\n",
    "\n",
    "CountTotal1 = []\n",
    "CountTotal2 = []\n",
    "for i in range(0,N):     \n",
    "    s = S[i]\n",
    "    Count1 = ((s-1 < S) & (S < s)).sum()   #googled this formula in a python blog\n",
    "    Count2 = ((s-1 < S2) & (S2 < s)).sum()\n",
    "    Count3 = ((s-1 < S3) & (S3 < s)).sum()\n",
    "    CountTotal1.append((Count1 + Count2))\n",
    "    CountTotal2.append((Count1 + Count3))\n",
    "    \n",
    "P.hist([CountTotal1,CountTotal2], color=['g','r'], alpha=0.8)  #Number of sets that s_i is included in\n",
    "P.title('Number of Different \"Capture Sets\" That Contain a Given Point')\n",
    "P.xlabel('Capture Set')\n",
    "P.ylabel('Number of Points Captured')\n",
    "P.show()  \n"
   ]
  }
 ],
 "metadata": {
  "kernelspec": {
   "display_name": "Python 3",
   "language": "python",
   "name": "python3"
  },
  "language_info": {
   "codemirror_mode": {
    "name": "ipython",
    "version": 3
   },
   "file_extension": ".py",
   "mimetype": "text/x-python",
   "name": "python",
   "nbconvert_exporter": "python",
   "pygments_lexer": "ipython3",
   "version": "3.6.1"
  }
 },
 "nbformat": 4,
 "nbformat_minor": 2
}
