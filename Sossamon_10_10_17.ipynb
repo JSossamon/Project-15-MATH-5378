{
 "cells": [
  {
   "cell_type": "markdown",
   "metadata": {},
   "source": [
    "The fact that we can do arithmetic with arbitrarily large integers enables us to do decimal calculations to arbitrary precision as well.\n",
    "\n",
    "__(1)__ We saw before that the iterative formula $x = (x + a/x)/2$ enables us to compute the square root of $a$. If we want accuracy to $n$ decimal places, we may multiply this formula by $10^n$: \n",
    "\n",
    "$$(10^n)x = \\frac{(10^n)x + (10^n)a/x}{2}$$\n",
    "\n",
    "If we let $y = (10^n)x$, then we may further rewrite this as:\n",
    "\n",
    "$$y = \\frac{y + (10^{2n})a/y}{2}$$\n",
    "\n",
    "This gives us a strategy for finding $x$ to $n$ decimal places:\n",
    "\n",
    "_(i)_ Use an initial value for $y$:  $y = 10^n$.\n",
    "\n",
    "_(ii)_ Iterate $y = (y + (10^{2n})a/y)/2$ using _integer arithmetic_ until $y$ no longer changes\n",
    "\n",
    "_(iii)_ The resulting $y$ should give the first $n$ decimal places of the square root of $a$.\n",
    "\n",
    "_(a)_ Code the algorithm. Your first two statements should be `a=2` and `n=100`.In your code, also produce a plot of the number of places of accuracy as a function of the number of iterations.\n",
    "\n",
    "_(b)_ Copy your code into a new cell. Convert into a function called `sqrtFn`. The function should take two arguments (`a_` and `n_`) and it should return the integer version of the square root (equal to the square root times $10^n$) and number of iterations until convergence.  (Note that I have added underscores`_` to the variables to distinguish the fact that they are arguments of a function. This is not necessary, but it may be helpful to organize things.)\n",
    "\n",
    "_(c)_ (_Math problem_) We may use a similar strategy to find $k$'th roots for arbitrary $k$. The reasoning is as follows. We will use the particular example of the cube root of 2.  \n",
    "\n",
    "* First, notice that if $x = 2^{1/3}$, then $x = 2/x^2$.\n",
    "* Second ,let's suppose that $x$ is a little off, i.e. $x = 2^{1/3} + \\delta$, where $\\delta$ is small. Then we have:\n",
    "$$ \\frac{2}{x^2} = \\frac{2}{(2^{1/3} + \\delta)^2} = \\frac{2}{2^{2/3} + 2^{4/3}\\delta + O(\\delta^2)},$$\n",
    "where $O(\\delta^2)$  indicates a number that proportional to $\\delta^2$, hence very, very small. Using the fact that:\n",
    "$$ \\frac{1}{1+z} = 1 - z + z^2 - z^3 + \\ldots  \\qquad \\text{(when } z<1,$$\n",
    "we may rewrite the rightmost expression for $\\frac{2}{x^2}$ as:\n",
    "$$ \\frac{2}{2^{2/3} + 2^{4/3}\\delta + O(\\delta^2)} = \\frac{2}{2^{2/3}} \\frac{1}{1 + 2^{2/3}\\delta + O(\\delta^2)}$$\n",
    "$$\\qquad = \\frac{2}{2^{2/3}} \\left( 1 -  2^{2/3}\\delta + O(\\delta^2) \\right)$$\n",
    "$$\\qquad = 2^{1/3} - 2\\delta + O(\\delta^2).$$\n",
    "Remember, this last expression is equal to $2/{x^2}$. On the other hand, we defined $\\delta$ so that $x = 2^{1/3} + \\delta$, which means that $\\delta = x - 2^{1/3}$. Let's substitute this in for $\\delta$ in the expression for $2/{x^2}$:\n",
    "$$\\frac{2}{x^2} = 2^{1/3} - 2(x - 2^{1/3}) + O(\\delta^2).$$\n",
    "We may rearrange to obtain:\n",
    "$$2x + \\frac{2}{x^2} = (3)2^{1/3} + O(\\delta^2).$$\n",
    "Solving for $2^{1/3}$, we have:\n",
    "$$ 2^{1/3} = \\frac{2x + 2/x^2}{3}  + O(\\delta^2).$$\n",
    "In summary, we may use the iterative formula:\n",
    "$$ x = \\frac{2x + 2/x^2}{3} $$\n",
    "to successively approach the cube root of 2.\n",
    "\n",
    "If we want to get $n$ digits, we should multiply this equation by $10^n$:\n",
    "$$ (10^n)x = \\frac{2(10^n)x + 2(10^n)/x^2}{3}. $$\n",
    "Writing $y =  (10^n)x$, we find:\n",
    "$$ y = \\frac{2y + 2(10^{3n})/y^2}{3}. $$\n",
    "\n",
    "Following this procedure, derive an iterative expression that can be used to compute the $k$'th root of $a$ to $n$ digits.\n",
    "\n",
    "_Hints_: \n",
    "* In the above argument you should replace 3 with $k$ and 2 with $a$ and go step by step.  In the denominator, you will get the sum of two terms raised to the $k-1$ power. You may expand this using the Binomial Theorem.  In the Binomial Theorem, you only need the first two terms. All other terms are multiples of $\\delta^2$ or a higher power of delta, so you can replace all the other terms with $O(\\delta^2)$.\n",
    "* Notice that when we solved for $2^{1/3}$ in the above calculation, we divided by 3 but did not divide the  $O(\\delta^2)$ term by 3. This is because the notation \"$O(\\delta^2)$\" means, \"something that is multiplied by $\\delta^2$, and hence very small.\"  When such a term is divided by 3, it's still multiplied by $\\delta^2$, so the designation doesn't change.\n",
    "\n",
    "_(d)_ Copy your `sqrtFn` code into a new cell. Modify the code into a function `rootFn` which computes the $k$'th root of $a$ to $n$-digit accuracy. The function should take three arguments (`a_`, `n_`, and `k_`) and it should return the integer version  of the $k$'th root (i.e. the $k$'th root times $10^n$)   and number of iterations until convergence. You may test your code using $a=2,n=100,k=3$.\n",
    "\n",
    "_(e)_ Use your code to plot (i) the number of iterations until convergence  for the `k`'th root of 2 to 100 digits for `k` = 1,2,3,...10; (ii) The 100'th digit for the 4'th root of $a$ for $a$ = 1,2,...,20, as a function of $a$.\n"
   ]
  },
  {
   "cell_type": "code",
   "execution_count": 45,
   "metadata": {
    "collapsed": true
   },
   "outputs": [],
   "source": [
    "#part (a) - initiate\n",
    "\n",
    "i = 0        #number of iterations initiate\n",
    "a = 2        #number taking the sqrt of\n",
    "n = 100      #number of decimal places\n",
    "y = 10**n    #accuracy of n decimal places\n"
   ]
  },
  {
   "cell_type": "code",
   "execution_count": 54,
   "metadata": {
    "scrolled": true
   },
   "outputs": [
    {
     "name": "stdout",
     "output_type": "stream",
     "text": [
      "First 100 decimal places of sqrt( 2 ) is  14142135623730950488016887242096980785696718753769480731766797379907324784621070388503875343276415727\n",
      "\n",
      "Number of iterations =  9\n",
      "Difference =  0\n"
     ]
    }
   ],
   "source": [
    "#part (a) - iterate\n",
    "\n",
    "i = i + 1\n",
    "y_store = y\n",
    "y = (y + (10**(2*n)*a//y)) // 2     #gives the first n decimal places of sqrt(a)\n",
    "\n",
    "diff = y-y_store\n",
    "\n",
    "print(\"First\",n,\"decimal places of sqrt(\",a,\") is \",y) \n",
    "print(\"\")\n",
    "print(\"Number of iterations = \",i)\n",
    "print(\"Difference = \",diff)"
   ]
  },
  {
   "cell_type": "code",
   "execution_count": 5,
   "metadata": {},
   "outputs": [
    {
     "name": "stdout",
     "output_type": "stream",
     "text": [
      "First 100 decimal places of sqrt( 2 ) is  14142135623730950488016887242096980785696718753769480731766797379907324784621070388503875343276415727\n",
      "\n",
      "Number of iterations =  9\n",
      "Difference =  0\n",
      "\n"
     ]
    },
    {
     "data": {
      "image/png": "[encoded data removed]",
      "text/plain": [
       "<matplotlib.figure.Figure at 0x112c42be0>"
      ]
     },
     "metadata": {},
     "output_type": "display_data"
    }
   ],
   "source": [
    "#part (a)\n",
    "import numpy as M\n",
    "\n",
    "i = 0        #number of iterations initiate\n",
    "a = 2        #number taking the sqrt of\n",
    "n = 100      #number of decimal places you want accuracy for\n",
    "y = 10**n    #accuracy of n decimal places\n",
    "diff = 1\n",
    "listY = []   #create empty list to store y-values\n",
    "listAcc = [] #create empty list to store accuracy values\n",
    "\n",
    "while diff != 0:\n",
    "    i = i + 1\n",
    "    y_store = y\n",
    "    y = (y + (10**(2*n)*a//y)) // 2      #gives the first n decimal places of sqrt(a)\n",
    "    listY.append(y)\n",
    "    diff = y - y_store\n",
    "    \n",
    "    #accuracy estimate:\n",
    "    accuracy = len(str(listY[-1])) - len(str(diff))\n",
    "    listAcc.append(accuracy)\n",
    "    \n",
    "print(\"First\",n,\"decimal places of sqrt(\",a,\") is \",y) \n",
    "print(\"\")\n",
    "print(\"Number of iterations = \",i)\n",
    "print(\"Difference = \",diff)\n",
    "print(\"\")\n",
    "#need to figure out how to plot the ACCURACY of the estimation!!\n",
    "%matplotlib inline          \n",
    "import matplotlib.pyplot as P\n",
    "P.plot(listAcc)\n",
    "P.ylabel('Accuracy of First '+str(n)+' Decimal Places')\n",
    "P.xlabel('Iterations')\n",
    "P.title('Square Root of '+str(a))\n",
    "P.show()"
   ]
  },
  {
   "cell_type": "code",
   "execution_count": 6,
   "metadata": {},
   "outputs": [
    {
     "name": "stdout",
     "output_type": "stream",
     "text": [
      "First 100 decimal places of sqrt(2) is 14142135623730950488016887242096980785696718753769480731766797379907324784621070388503875343276415727 with 9 iterations.\n"
     ]
    },
    {
     "data": {
      "image/png": "[encoded data removed]",
      "text/plain": [
       "<matplotlib.figure.Figure at 0x112c42c88>"
      ]
     },
     "metadata": {},
     "output_type": "display_data"
    }
   ],
   "source": [
    "#part (b)\n",
    "import numpy as M\n",
    "\n",
    "\n",
    "listY = []   #create empty list to store y-values\n",
    "listAcc = [] #create empty list to store accuracy values\n",
    "def sqrtFn(a,n):\n",
    "\n",
    "    i = 0        #number of iterations initiate\n",
    "    a = 2        #number taking the sqrt of\n",
    "    n = 100      #number of decimal places\n",
    "    y = 10**n    #accuracy of n decimal places\n",
    "    diff = 1\n",
    "    \n",
    "    while diff != 0:\n",
    "        i = i + 1\n",
    "        y_store = y\n",
    "        y = (y + (10**(2*n)*a//y)) // 2      #gives the first n decimal places of sqrt(a)\n",
    "        listY.append(y)\n",
    "        diff = y - y_store\n",
    "        #accuracy estimate:\n",
    "        accuracy = len(str(listY[-1])) - len(str(diff))\n",
    "        listAcc.append(accuracy)\n",
    "    \n",
    "    return \"First \"+str(n)+\" decimal places of sqrt(\"+str(a)+\") is \"+str(y)+\" with \"+str(i)+\" iterations.\"\n",
    "\n",
    "print(sqrtFn(2,100))\n",
    "\n",
    "%matplotlib inline\n",
    "import matplotlib.pyplot as P\n",
    "P.plot(listAcc)\n",
    "P.ylabel('Accuracy of First '+str(n)+' Decimal Places')\n",
    "P.xlabel('Iterations')\n",
    "P.title('Square Root of '+str(a))\n",
    "P.show()"
   ]
  },
  {
   "cell_type": "markdown",
   "metadata": {},
   "source": [
    "**part (c):**   \n",
    "$x = a^{1/k}$  and  $x = a/(x^{k-1})$  and  $x = a^{1/k} + \\delta$\n",
    "\n",
    "Now, replace my value for x:\n",
    "$\\frac{a}{x^{k-1}} = \\frac{a}{(a^{1/k} + \\delta)^{k-1}}$\n",
    "\n",
    "Using the fact that:\n",
    "$$ \\frac{1}{1+z} = 1 - z + z^2 - z^3 + \\ldots  \\qquad \\text{(when } z<1,$$\n",
    "we may rewrite the rightmost expression for $\\frac{a}{x^{k-1}}$ as:\n",
    "$$ \\frac{a}{a^{(k-1)/k} + (k-1)(a^{-1/k})\\delta + O(\\delta^2)} = \\frac{a}{a^{(k-1)/k}} \\frac{1}{1 + (k-1)(a^{-1/k})\\delta + O(\\delta^2)}$$ \n",
    "\n",
    "With some simplifying and replacing $\\delta$ with $x-a^{1/k}$, we get:\n",
    "$$ \\frac{a}{x^{k-1}} = a^{1/k} - (k-1)(x-a^{1/k}) + O(\\delta^2) $$\n",
    "\n",
    "Now, using some algebra to solve for $a^{1/k}$, ignoring the negligibly small $O(\\delta^2)$, we get:\n",
    "$$ x = a^{1/k} = \\frac{(k-1)x + ax^{1-k}}{k} $$\n",
    "\n",
    "Then, multiply both sides by $10^{n}$ to get:\n",
    "$$ (10^{n})x = \\frac{(k-1)(10^{n})x + a(10^{n})/x^{k-1}}{k} $$\n",
    "\n",
    "So, replacing $10^{n}$ with $y$, the final result is:\n",
    "$$ y = \\frac{(k-1)y + a(10^{kn})/y^{k-1}}{k} $$"
   ]
  },
  {
   "cell_type": "code",
   "execution_count": 45,
   "metadata": {},
   "outputs": [
    {
     "name": "stdout",
     "output_type": "stream",
     "text": [
      "(9, 12599210498948731647672106072782283505702514647015079800819751121552996765139594837293965624362550941)\n"
     ]
    }
   ],
   "source": [
    "#part (d)\n",
    "import numpy as M\n",
    "\n",
    "def rootFn(a,n,k):\n",
    "\n",
    "    i = 0        #number of iterations initiate\n",
    "    y = 10**n    #accuracy of n decimal places\n",
    "    diff = 1\n",
    "    listY = [y]   #empty list to store y-values\n",
    "\n",
    "    while diff != 0:\n",
    "        i = i + 1\n",
    "        y = ((k-1)*y + (10**(k*n)*a//y**(k-1))) // k      #gives the first n decimal places of k-th root(a)\n",
    "        listY.append(y)\n",
    "        diff = listY[-1] - listY[-2]\n",
    "    \n",
    "    return i,listY[-1]\n",
    "\n",
    "print(rootFn(2,100,3))"
   ]
  },
  {
   "cell_type": "markdown",
   "metadata": {},
   "source": [
    "Part E:\n",
    "Use your code to plot (i) the number of iterations until convergence  for the `k`'th root of 2 to 100 digits for `k` = 1,2,3,...10; (ii) The 100'th digit for the 4'th root of $a$ for $a$ = 1,2,...,20, as a function of $a$."
   ]
  },
  {
   "cell_type": "code",
   "execution_count": 54,
   "metadata": {},
   "outputs": [
    {
     "name": "stdout",
     "output_type": "stream",
     "text": [
      "[2, 9, 9, 9, 9, 9, 9, 9, 9, 9] [1, 2, 3, 4, 5, 6, 7, 8, 9, 10]\n"
     ]
    },
    {
     "data": {
      "image/png": "[encoded data removed]",
      "text/plain": [
       "<matplotlib.figure.Figure at 0x1104ea4e0>"
      ]
     },
     "metadata": {},
     "output_type": "display_data"
    },
    {
     "name": "stdout",
     "output_type": "stream",
     "text": [
      "[1, 2, 3, 4, 5, 6, 7, 8, 9, 10, 11, 12, 13, 14, 15, 16, 17, 18, 19, 20] ['0', '3', '1', '2', '5', '9', '2', '2', '5', '5', '0', '6', '7', '2', '9', '0', '1', '6', '8', '8']\n"
     ]
    },
    {
     "data": {
      "image/png": "[encoded data removed]",
      "text/plain": [
       "<matplotlib.figure.Figure at 0x1109234e0>"
      ]
     },
     "metadata": {},
     "output_type": "display_data"
    }
   ],
   "source": [
    "#part (e)\n",
    "#part (i)\n",
    "import numpy as M\n",
    "\n",
    "def rootFn(a,n,k):\n",
    "\n",
    "    i = 0        #number of iterations initiate\n",
    "    y = 10**n    #accuracy of n decimal places\n",
    "    diff = 1\n",
    "    listY = [y]   #empty list to store y-values\n",
    "\n",
    "    while diff != 0:\n",
    "        i = i + 1\n",
    "        y = ((k-1)*y + (10**(k*n)*a//y**(k-1))) // k      #gives the first n decimal places of k-th root(a)\n",
    "        listY.append(y)\n",
    "        diff = listY[-1] - listY[-2]\n",
    "    \n",
    "    return i,listY[-1]\n",
    "\n",
    "listI = []         #create empty list for iteration values\n",
    "listK = []         #create empty list for k-values of root\n",
    "for k in range(1,11):\n",
    "    \n",
    "    i,null = rootFn(2,100,k)\n",
    "    listI.append(i)\n",
    "    listK.append(k)\n",
    "\n",
    "print(listI,listK)\n",
    "    \n",
    "%matplotlib inline\n",
    "import matplotlib.pyplot as P\n",
    "P.plot(listK, listI, 'bo')\n",
    "P.ylabel('Number of Iterations to Convergence')\n",
    "P.xlabel('k')\n",
    "P.title('K-th Roots')\n",
    "P.show()\n",
    "\n",
    "#part (ii)\n",
    "import numpy as M\n",
    "\n",
    "def rootFn(a,n,k):\n",
    "\n",
    "    i = 0        #number of iterations initiate\n",
    "    y = 10**n    #accuracy of n decimal places\n",
    "    diff = 1\n",
    "    listY = [y]   #empty list to store y-values\n",
    "    \n",
    "    while diff != 0:\n",
    "        i = i + 1\n",
    "        y = ((k-1)*y + (10**(k*n)*a//y**(k-1))) // k      #gives the first n decimal places of k-th root(a)\n",
    "        listY.append(y)\n",
    "        diff = listY[-1] - listY[-2]\n",
    "    \n",
    "    return i,listY[-1]\n",
    "\n",
    "listA = []         #create empty list for a-values to take kth root of\n",
    "listD = []         #empty list to store 100th digit\n",
    "\n",
    "for a in range(1,21):\n",
    "    \n",
    "    i,y = rootFn(a,100,4)\n",
    "    digit = str(str(y))[99]\n",
    "    listD.append(digit)\n",
    "    listA.append(a)\n",
    "\n",
    "print(listA,listD)\n",
    "    \n",
    "%matplotlib inline\n",
    "import matplotlib.pyplot as P\n",
    "P.plot(listA, listD, 'ro')\n",
    "P.ylabel('100th digit')\n",
    "P.xlabel('a')\n",
    "P.title('Roots of a')\n",
    "P.show()\n"
   ]
  },
  {
   "cell_type": "markdown",
   "metadata": {},
   "source": [
    "__(2)__ Take your \"Collatz Conjecture\" code (Exercises 3.1) and turn it into a function.  The function input is the starting value, and the function output is the number of iterations until the Collatz sequence reaches 1. Plot the number of iterations as a function of starting value for starting values 1 up to 1000. Give also a histogram of number of iterations for the same starting values."
   ]
  },
  {
   "cell_type": "code",
   "execution_count": 12,
   "metadata": {},
   "outputs": [
    {
     "name": "stdout",
     "output_type": "stream",
     "text": [
      "Number of iterations for 19 to reach 1 is 20\n",
      "Number of iterations for 27 to reach 1 is 111\n"
     ]
    },
    {
     "data": {
      "image/png": "[encoded data removed]",
      "text/plain": [
       "<matplotlib.figure.Figure at 0x11046c470>"
      ]
     },
     "metadata": {},
     "output_type": "display_data"
    },
    {
     "data": {
      "image/png": "[encoded data removed]",
      "text/plain": [
       "<matplotlib.figure.Figure at 0x110127b70>"
      ]
     },
     "metadata": {},
     "output_type": "display_data"
    }
   ],
   "source": [
    "import numpy as M\n",
    "\n",
    "def collatzFn(k):\n",
    "\n",
    "    #Initialization step\n",
    "    a=k\n",
    "    n=0      #iterations\n",
    "\n",
    "    #Iteration step\n",
    "    while a > 1:\n",
    "        \n",
    "        n=n+1\n",
    "        a=((1-(a%2))*a/2 + (a%2)*(3*a+1))\n",
    "    \n",
    "    return n\n",
    "\n",
    "k19 = collatzFn(19)       #check function with values from exercise 3.1\n",
    "print(\"Number of iterations for 19 to reach 1 is \"+str(k19))\n",
    "k27 = collatzFn(27)\n",
    "print(\"Number of iterations for 27 to reach 1 is \"+str(k27))\n",
    "\n",
    "\n",
    "%matplotlib inline\n",
    "import matplotlib.pyplot as P\n",
    "\n",
    "#create vectors to input for my plot and histogram\n",
    "C = 1000\n",
    "CollatzValVec = M.arange(1,C+1,1)\n",
    "CollatzVector = M.zeros(C)\n",
    "for j in range(1,C):\n",
    "    CollatzVector[j] = collatzFn(j+1)  \n",
    "\n",
    "P.plot(CollatzValVec, CollatzVector, 'ro', markersize=0.5)\n",
    "P.ylabel('Number of Iterations until Collatz Value=1')\n",
    "P.xlabel('How Many Collatz Values?')\n",
    "P.title('Collatz Conjecture Plot')\n",
    "P.show()\n",
    "\n",
    "P.hist(CollatzVector)\n",
    "P.show()"
   ]
  },
  {
   "cell_type": "markdown",
   "metadata": {},
   "source": [
    "__(3)__ Create a function `MandelbrotFn` whose inputs are $c,R$, and $N$, where $c$ is complex, $R$ is real, and $N$ is an integer. The output is a single integer $n$. To understand the following description it will be helpful if you re-read  Exercise 5 from Section 3.3.  Your function will start at $z=0$ and iterate the function $f(z)=z^2+c$ until the absolute value of the result is greater than $R$.  If after $N$ iterations the absolute value never exceeds $R$, then  the function should return the value $N$. "
   ]
  },
  {
   "cell_type": "code",
   "execution_count": 54,
   "metadata": {},
   "outputs": [
    {
     "name": "stdout",
     "output_type": "stream",
     "text": [
      "After 1000 iterations, the abs.value of f(0)=0\n",
      "After 1000 iterations, the abs.value of f((1-97j))=97.0051545022222\n"
     ]
    }
   ],
   "source": [
    "import cmath as k\n",
    "import numpy as M\n",
    "\n",
    "def MandelbrotFn(c,R,N):\n",
    "    \n",
    "    #Initialize my z and iteration counter n\n",
    "    z=0\n",
    "    n=0\n",
    "\n",
    "    #Iteration step\n",
    "    while abs(z) <= R and n <= N:   \n",
    "        n=n+1\n",
    "        z=z**2+c\n",
    "\n",
    "    return \"After \"+str(N)+\" iterations, the abs.value of f(\"+str(z)+\")=\"+str(abs(z))\n",
    "\n",
    "Test1 = MandelbrotFn(0,2,1000)   #check function with values from 3.3#5 \n",
    "print(Test1)\n",
    "Test2 = MandelbrotFn(1j+1,10,1000)\n",
    "print(Test2)\n"
   ]
  },
  {
   "cell_type": "markdown",
   "metadata": {},
   "source": [
    "__(4)__ \n",
    "_(a)_ Create a function `bGenFn` based on Exercises 6a in Exercises 14.2. The inputs are `p_,p1_,M_,N_,k_` and the output is `bMx`.\n",
    "\n",
    "**Given parameters p, p1, M, N, k, create a matrix representing M sequences of N trials, where the first k trials have probability p of producing 1, and the last N-k have probability p1 of producing 1. Call your matrix bMx2. You may use the values p=0.1, p1=0.15, M=500, N=100, k=50.**\n"
   ]
  },
  {
   "cell_type": "code",
   "execution_count": 39,
   "metadata": {
    "collapsed": true,
    "scrolled": true
   },
   "outputs": [],
   "source": [
    "#part (a)\n",
    "import numpy as U\n",
    "%matplotlib inline\n",
    "import matplotlib.pyplot as P\n",
    "\n",
    "def bGenFn(p,p1,M,N,k): \n",
    "\n",
    "    kTrials = U.random.binomial(1,p,(M,k))\n",
    "    NkTrials = U.random.binomial(1,p1,(M,N-k))\n",
    "    bMx = U.concatenate((kTrials,NkTrials),axis=1)\n",
    "    \n",
    "    return bMx\n",
    "\n",
    "#part (b)\n",
    "def bLogFn(bMx_,p,p1,N,k):         #Taking log of probabilities (k=good;N-k=bad)\n",
    "    bMx1 = bMx_[:, 0:k]      #Call first k entries from bMx_\n",
    "    bSum1 = U.sum(bMx1,axis=1)  #Sum the first k entries\n",
    "    bMx2 = bMx_[:, k:N]      #Call last N-k entries from bMx_\n",
    "    bSum2 = U.sum(bMx2,axis=1)  #Sum the last N-k entries\n",
    "    bLog1 = bSum1*(U.log(p)-U.log(1-p))+k*U.log(1-p)    # \n",
    "    bLog2 = bSum2*(U.log(p1)-U.log(1-p1))+(N-k)*U.log(1-p1)   \n",
    "    bLog = bLog1 + bLog2\n",
    "    \n",
    "    return bLog\n",
    "\n",
    "#part (c)\n",
    "p = 0.1\n",
    "p1 = 0.15\n",
    "def bLogAltFn(bMx_,p,p1,N,d):\n",
    "    bLogAltSum = 0\n",
    "    for k in range(0,N-d):\n",
    "        \n",
    "        bLogAlt = U.exp(bLogFn(bMx_,p,p1,N,k)) \n",
    "        \n",
    "        bLogAltSum = bLogAltSum + bLogAlt      #cumulative sum\n",
    "    \n",
    "    LogAverage = U.log(bLogAltSum / (N-d))     #log of averages\n",
    "    \n",
    "    return LogAverage\n",
    "\n",
    "#part (d)\n",
    "#create my NULL HYPOTHESIS\n",
    "p = 0.05\n",
    "p1 = 0.1\n",
    "M = 5000\n",
    "N = 100\n",
    "k = 100\n",
    "d = 6\n",
    "q = 95\n",
    "\n",
    "Null = bGenFn(p,p,M,N,N)  #creating Null matrix\n",
    "\n",
    "#evaluate Logs and find the difference btwn Logs and Averages of Logs\n",
    "bLog_1 = bLogFn(Null,p,p1,N,N)             #Evaluate Null hyp\n",
    "bLogAlt_1 = bLogAltFn(Null,p,p1,N,d)       #Evaluate Alt hyp\n",
    "bDiff = U.sort(bLogAlt_1 - bLog_1)            #Log of LR\n",
    "\n",
    "#plot results of the difference\n",
    "P.plot(bDiff, 'go', markersize=0.25)\n",
    "P.ylabel('')\n",
    "P.xlabel('')\n",
    "P.title('')\n",
    "P.show()\n",
    "\n",
    "#finding q-th percentile\n",
    "qth = U.percentile(bDiff,q,axis=0)\n",
    "print(\"q-th percentile is\",qth)\n",
    "\n",
    "#part (d) - last bulletpoint\n",
    "#find new values using p1=0.1\n",
    "for k in range(0,N-d):\n",
    "    AltnMx = bGenFn(p,p1,M,N,k)\n",
    "    #evaluate Logs and find the difference btwn Logs and Averages of Logs\n",
    "    bLog_2 = bLogFn(AltnMx,p,p,N,N)  #testing Null Hypothesis under assumption it does not go bad (how many docs \"going bad\")?\n",
    "    bLogAlt_2 = bLogAltFn(AltnMx,p,p1,N,d)  #testing where it goes bad (closer to alt or null hypothesis)?\n",
    "    bDiff2 = U.sort(bLogAlt_2 - bLog_2)   #Log of LR (for each scenario --> there's (N-d) scenarios to test)\n",
    "    #finding values greater than qth percentile\n",
    "    ValBigQ = bDiff2>=qth  #need proportionate values not actual values - do sum instead!!!\n",
    "    SumValBigQ = U.sum(ValBigQ)/M  #/M gives proportion detected\n",
    "    #plot detection rate\n",
    "    P.plot(k,SumValBigQ, 'ro', markersize=0.5)\n",
    "    P.ylabel('Values Greater than q')\n",
    "    P.xlabel('k')\n",
    "    P.title('Detection Rate')\n",
    "P.show()\n",
    "\n"
   ]
  },
  {
   "cell_type": "markdown",
   "metadata": {},
   "source": [
    "_(b)_ Create a function `bLogFn`. The inputs are `bMx_,p_,p1_,M_,N_,k_`. The output is a vector of log probabilities, calculated under the assumption that the first `k` trials have success probability `p`, and the last `N-k` trials have success probability `p1`. "
   ]
  },
  {
   "cell_type": "markdown",
   "metadata": {},
   "source": [
    "_(c)_ Create a function `bLogAltFn`. The inputs are `bMx_,p_,p1_,M_,N_,k_,d_`. The output is the average of `N- d` vectors generated using  `bLog`, under the assumption that the first `k` trials have success probability `p` and the last `N-k` trials have success probability `p1` for `k = 0,1,...N-d-1`. "
   ]
  },
  {
   "cell_type": "markdown",
   "metadata": {},
   "source": [
    "_(d)_. Write a code that accomplishes the following steps:\n",
    "\n",
    "* Generate a `M` by `N` matrix of Bernoulli trials with all trials having success probability `p`. This is the \"Null hypothesis\". Use `M=500, N=100,p=0.05`.\n",
    "* Evaluate the vector `bLog` under the assumption that `k=N`. Evaluate `bLogAlt` (using `d=6`), take the different between `bLogAlt - bLog` and sort. Plot the result.\n",
    "* Find the `q`th percentile of these values. (You may look up \"percentile\" in a statistics book.)  This will be our cutoff. In your code, you may use `q=0.95` (i.e. 95 percent). This corresponds to a 5 percent false alarm probability\n"
   ]
  },
  {
   "cell_type": "markdown",
   "metadata": {},
   "source": [
    "* For each value `k-0,1,...N-d-1`, create a `M` by `N` matrix of Bernoulli trials with the first `k` trials having success probability `p` and the last `N-k` trials with success probability `p1` (use `p1=0.1`). Evaluate `bLog` and `bLogAlt`, and `bLogAlt - bLog`. Find the proportion of values that are greater than `q`. Plot this proportion as a function of `k`.  This is the detection rate. "
   ]
  },
  {
   "cell_type": "markdown",
   "metadata": {},
   "source": [
    "__(5)__ This is another actual research problem. We are interested in the covering properties of random intervals placed on a line,along which is randomly scattered a set of points. Suppose we have a set of points (which we will denote as $S$) randomly scattered along a long segment of length $L$, and we randomly place a unit interval $I$ somewhere on the segment. This randomly-placed interval will intersect $S$ in the set $I\\cap S$.  There are several questions:\n",
    "\n",
    "* How many different possible sets $I \\cap S$ are there? \n",
    "* What is the probability distribution of choosing these different sets, if the interval $I$ is placed randomly on the segment?\n",
    "* The points of $S$ may be in multiple distinct sets $I \\cap S$.  What is the probability distribution of the number of sets which include a given point?\n",
    "\n",
    "There are two ways of attacking this problem. We could either do a random simulation, or we could do systematic counting.  In this case we will do systematic counting (which is usually faster when it's possible).\n",
    "\n",
    "We may consider the segment as the real interval $[0,L]$. The leftmost position of the unit interval will be $[0,1]$, and in general the unit interval will have the form $[x,x+1]$ where $0 \\le x \\le L-1$. Consider \"scanning\" the unit interval across the segment, from $x=0$ to $x=L-1$. Every time a point of $S$ enters from the left or leaves from the right, the set $S \\cap I$ changes. a point $s \\in S$ enters the interval when $x+1 = s$, and the point leaves the interval when $x=s$. Therefore, during the scanning process the set changes every time either $x=s$ or $x = s-1$ for some point $s \\in S$. So suppose we enumerate the sets $S = \\{s_1, \\ldots, s_N\\}$ and the set $S' = \\{s_1-1, \\ldots, s_N-1\\}$. We may take the union $S \\cup S'$ and sort: then each point in $S \\cup S'$ indicates a change in $I \\cap S$ during the scanning process, and the intervals between points divided by $L$ gives the probabilities of the different intersections. This means that except for the points in $S$ which are in the intervals $[0,1]$ and $[L-1,L]$,  the number of different subsets $S \\cap I$ will be $2N$.**(Answer should be 2N...this is NOT a part of the coding!!!)** The number of sets that $s$ is included in is the number of points in $S \\cup S'$ between $s-1$ and $s$.\n",
    "\n",
    "_(a)_ Write a program to count the number of possible sets and to plot the probabilities of these sets and the number of sets containing each point. Using L = 1E5 and N = 1E6.  \n",
    "\n",
    "_Hints_  You may use the following procedure in your code:\n",
    "* Generate $S$ as a vector using uniform random number generation\n",
    "* Create $S'$ as a vector, and remove elements from $S'$ that are less than 0.\n",
    "* Concatenate $S$ and $S'$ and sort. This is $S \\cup S'$.\n",
    "* Find the differences between consecutive entries in $S \\cup S'$, and plot the histogram. This gives the probabilities of the different sets.\n",
    "* To find the number of different sets containing each point:\n",
    "    - Loop through all the entries in $S$ (denote the current element as $s$:\n",
    "    - Count the number of elements in $S$ that are between $s$ and $s-1$.\n",
    "    - Count the number of elements in $S'$ that are between $s$ and $s-1$.\n",
    "    - Add these counts together, and store the value.  The sum of these two counts is the number of sets containing $s$.\n",
    "    \n",
    "Here are some harder problems:\n",
    "\n",
    "* Answer the same questions for unit squares in a large .square region of side $L$; \n",
    "* Answer the same questions for  unit disks (disk of unitFind the differences between consecutive entries in  aAnswer the , and plot the histogram. This gives the probabilities of the different sets.\n",
    "* rea) in a large square region of side $L$\n",
    "* Answer the same questions for unit hypercubes within a large hypercube of side $L$."
   ]
  },
  {
   "cell_type": "code",
   "execution_count": 23,
   "metadata": {},
   "outputs": [
    {
     "data": {
      "image/png": "[encoded data removed]",
      "text/plain": [
       "<matplotlib.figure.Figure at 0x1104e21d0>"
      ]
     },
     "metadata": {},
     "output_type": "display_data"
    },
    {
     "data": {
      "image/png": "[encoded data removed]",
      "text/plain": [
       "<matplotlib.figure.Figure at 0x11002a438>"
      ]
     },
     "metadata": {},
     "output_type": "display_data"
    }
   ],
   "source": [
    "#part (a)\n",
    "import numpy as M\n",
    "L = 10000     #set segment length L (using smaller values to test code)\n",
    "N = 100000     #number of points N (using smaller values to test code)\n",
    "\n",
    "S = M.random.uniform(0,L,M.int(N))\n",
    "S2 = S - 1\n",
    "\n",
    "#S2positive = S2[S2>=0]    #searches value-by-value and selects only >=0\n",
    "S2 = S2[S2>=0]\n",
    "\n",
    "#SuS2 = M.sort(M.concatenate((S,S2positive),axis=0))\n",
    "SuS2 = M.sort(M.concatenate((S,S2),axis=0))\n",
    "\n",
    "DiffList = M.diff(SuS2)   #googled\n",
    "    \n",
    "%matplotlib inline\n",
    "import matplotlib.pyplot as P\n",
    "\n",
    "P.hist(DiffList)\n",
    "P.title('Distribution of Intervals between Consecutive Points')\n",
    "P.show()\n",
    "\n",
    "\n",
    "CountTotal = []\n",
    "for i in range(0,N):     \n",
    "    s = S[i]\n",
    "    Count1 = ((s-1 < S) & (S < s)).sum()   #googled this formula in a python blog\n",
    "    Count2 = ((s-1 < S2) & (S2 < s)).sum()\n",
    "    CountTotal.append((Count1 + Count2))\n",
    "#print(CountTotal)    \n",
    "\n",
    "P.hist(CountTotal)  #Number of sets that s_i is included in\n",
    "P.title('Number of Different \"Capture Sets\" That Contain a Given Point')\n",
    "P.xlabel('Capture Set')\n",
    "P.ylabel('Number of Points Captured')\n",
    "P.show()"
   ]
  },
  {
   "cell_type": "code",
   "execution_count": null,
   "metadata": {
    "collapsed": true
   },
   "outputs": [],
   "source": [
    "#harder problem 1\n"
   ]
  },
  {
   "cell_type": "code",
   "execution_count": null,
   "metadata": {
    "collapsed": true
   },
   "outputs": [],
   "source": [
    "#harder problem 2\n"
   ]
  },
  {
   "cell_type": "code",
   "execution_count": null,
   "metadata": {
    "collapsed": true
   },
   "outputs": [],
   "source": [
    "#harder problem 3\n"
   ]
  }
 ],
 "metadata": {
  "kernelspec": {
   "display_name": "Python 3",
   "language": "python",
   "name": "python3"
  },
  "language_info": {
   "codemirror_mode": {
    "name": "ipython",
    "version": 3
   },
   "file_extension": ".py",
   "mimetype": "text/x-python",
   "name": "python",
   "nbconvert_exporter": "python",
   "pygments_lexer": "ipython3",
   "version": "3.6.1"
  }
 },
 "nbformat": 4,
 "nbformat_minor": 2
}
